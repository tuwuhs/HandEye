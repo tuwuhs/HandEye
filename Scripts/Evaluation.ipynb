{
 "cells": [
  {
   "cell_type": "code",
   "execution_count": 25,
   "metadata": {},
   "outputs": [],
   "source": [
    "import gtsam\n",
    "import cv2\n",
    "import numpy as np\n",
    "import yaml"
   ]
  },
  {
   "cell_type": "code",
   "execution_count": 26,
   "metadata": {},
   "outputs": [
    {
     "name": "stderr",
     "output_type": "stream",
     "text": [
      "/home/tuwuhs/anaconda3/lib/python3.7/site-packages/ipykernel_launcher.py:2: YAMLLoadWarning: calling yaml.load() without Loader=... is deprecated, as the default Loader is unsafe. Please read https://msg.pyyaml.org/load for full details.\n",
      "  \n"
     ]
    }
   ],
   "source": [
    "with open('out.yaml') as f:\n",
    "    data = yaml.load(f)\n",
    "    \n",
    "object_points = np.float32(data['object_points'])\n",
    "wTh_list = [gtsam.Pose3(\n",
    "                gtsam.Rot3.Rodrigues(v['wTh']['rvec']), \n",
    "                v['wTh']['tvec']) \n",
    "            for v in data['views']]\n",
    "image_points = np.float32([v['image_points'] for v in data['views']])"
   ]
  },
  {
   "cell_type": "markdown",
   "metadata": {},
   "source": [
    "# Reference implementation"
   ]
  },
  {
   "cell_type": "code",
   "execution_count": 27,
   "metadata": {},
   "outputs": [
    {
     "name": "stderr",
     "output_type": "stream",
     "text": [
      "/home/tuwuhs/anaconda3/lib/python3.7/site-packages/ipykernel_launcher.py:5: YAMLLoadWarning: calling yaml.load() without Loader=... is deprecated, as the default Loader is unsafe. Please read https://msg.pyyaml.org/load for full details.\n",
      "  \"\"\"\n"
     ]
    }
   ],
   "source": [
    "def as_nparray(node):\n",
    "    return np.array(node['data']).reshape([node['rows'], node['cols']])\n",
    "\n",
    "with open('camera_info.yaml') as f:\n",
    "    data = yaml.load(f)\n",
    "K = as_nparray(data['camera_matrix'])\n",
    "dist = as_nparray(data['distortion_coefficients'])"
   ]
  },
  {
   "cell_type": "code",
   "execution_count": 29,
   "metadata": {},
   "outputs": [
    {
     "name": "stdout",
     "output_type": "stream",
     "text": [
      "40.081510468848656\n"
     ]
    }
   ],
   "source": [
    "## Tsai (VISP)\n",
    "hTe = gtsam.Pose3(gtsam.Rot3(\n",
    "     0.017563,  0.0236099, 0.999567, \n",
    "    -0.700223, -0.713329,  0.0291522, \n",
    "     0.713708, -0.700432,  0.00400403), \n",
    "    [0.0867232, 0.135053,  0.0780596])\n",
    "oTw = gtsam.Pose3(gtsam.Rot3(\n",
    "     0.0931247, -0.995408,  0.0221433,\n",
    "     0.0944387,  0.0309705, 0.995049, \n",
    "    -0.991166,  -0.0905724, 0.0968892),\n",
    "    [0.0643109, -0.849175, 1.14672])\n",
    "\n",
    "rrmse = 0\n",
    "count = 0\n",
    "for i in range(len(wTh_list)):\n",
    "    oTe = oTw.compose(wTh_list[i]).compose(hTe)\n",
    "    eTo = oTe.inverse()\n",
    "    reprojected = cv2.projectPoints(\n",
    "        object_points,\n",
    "        gtsam.Rot3.Logmap(eTo.rotation()),\n",
    "        eTo.translation(),\n",
    "        K,\n",
    "        dist)[0].reshape((-1, 2))\n",
    "    rrmse += np.sum(np.linalg.norm(reprojected - image_points[i], axis=1) ** 2)\n",
    "    count += reprojected.shape[0]\n",
    "rrmse = np.sqrt(rrmse / count)\n",
    "print(rrmse)"
   ]
  },
  {
   "cell_type": "code",
   "execution_count": 30,
   "metadata": {},
   "outputs": [
    {
     "name": "stdout",
     "output_type": "stream",
     "text": [
      "109.97048559074658\n"
     ]
    }
   ],
   "source": [
    "## Graph\n",
    "hTe = gtsam.Pose3(gtsam.Rot3(\n",
    "    -0.0253614,  0.017791,  0.99952,\n",
    "    -0.70722,   -0.706973, -0.00536091,   \n",
    "     0.706539,  -0.707016,  0.030512),\n",
    "    [0.0839532,  0.144079,  0.0584548])\n",
    "\n",
    "oTw = gtsam.Pose3(gtsam.Rot3(\n",
    "     0.0372749, -0.999126,  0.0188992, \n",
    "     0.0969558,  0.022439,  0.995036, \n",
    "    -0.99459,   -0.0352575, 0.0977075), \n",
    "    [0.134352, -0.842135, 1.1393])\n",
    "\n",
    "rrmse = 0\n",
    "count = 0\n",
    "for i in range(len(wTh_list)):\n",
    "    oTe = oTw.compose(wTh_list[i]).compose(hTe)\n",
    "    eTo = oTe.inverse()\n",
    "    reprojected = cv2.projectPoints(\n",
    "        object_points,\n",
    "        gtsam.Rot3.Logmap(eTo.rotation()),\n",
    "        eTo.translation(),\n",
    "        K,\n",
    "        dist)[0].reshape((-1, 2))\n",
    "    rrmse += np.sum(np.linalg.norm(reprojected - image_points[i], axis=1) ** 2)\n",
    "    count += reprojected.shape[0]\n",
    "rrmse = np.sqrt(rrmse / count)\n",
    "print(rrmse)"
   ]
  },
  {
   "cell_type": "markdown",
   "metadata": {},
   "source": [
    "# Swift"
   ]
  },
  {
   "cell_type": "code",
   "execution_count": 22,
   "metadata": {},
   "outputs": [
    {
     "name": "stderr",
     "output_type": "stream",
     "text": [
      "/home/tuwuhs/anaconda3/lib/python3.7/site-packages/ipykernel_launcher.py:2: YAMLLoadWarning: calling yaml.load() without Loader=... is deprecated, as the default Loader is unsafe. Please read https://msg.pyyaml.org/load for full details.\n",
      "  \n"
     ]
    }
   ],
   "source": [
    "with open('out.yaml') as f:\n",
    "    data = yaml.load(f)\n",
    "\n",
    "fx = data['camera_calibration']['fx']\n",
    "fy = data['camera_calibration']['fy']\n",
    "s = data['camera_calibration']['s']\n",
    "u0 = data['camera_calibration']['u0']\n",
    "v0 = data['camera_calibration']['v0']\n",
    "\n",
    "dist = np.array(data['camera_calibration']['distortion_coefficients'])\n",
    "K = np.array([[fx, s, u0], [0, fy, v0], [0, 0, 1]])"
   ]
  },
  {
   "cell_type": "markdown",
   "metadata": {},
   "source": [
    "# C++"
   ]
  },
  {
   "cell_type": "code",
   "execution_count": 20,
   "metadata": {},
   "outputs": [
    {
     "name": "stderr",
     "output_type": "stream",
     "text": [
      "/home/tuwuhs/anaconda3/lib/python3.7/site-packages/ipykernel_launcher.py:2: YAMLLoadWarning: calling yaml.load() without Loader=... is deprecated, as the default Loader is unsafe. Please read https://msg.pyyaml.org/load for full details.\n",
      "  \n"
     ]
    }
   ],
   "source": [
    "with open('out.yaml') as f:\n",
    "    data = yaml.load(f)\n",
    "\n",
    "fx = data['camera_calibration']['fx']\n",
    "fy = data['camera_calibration']['fy']\n",
    "s = data['camera_calibration']['s']\n",
    "u0 = data['camera_calibration']['u0']\n",
    "v0 = data['camera_calibration']['v0']\n",
    "\n",
    "dist = np.array(data['camera_calibration']['distortion_coefficients'])\n",
    "K = np.array([[fx, s, u0], [0, fy, v0], [0, 0, 1]])"
   ]
  },
  {
   "cell_type": "code",
   "execution_count": 21,
   "metadata": {},
   "outputs": [
    {
     "name": "stdout",
     "output_type": "stream",
     "text": [
      "8.792525108597518\n",
      "792\n"
     ]
    }
   ],
   "source": [
    "## Factor graph\n",
    "hTe = gtsam.Pose3(gtsam.Rot3(\n",
    "    -0.0222476,  0.00124849,  0.999752,\n",
    "    -0.70787,   -0.706186,   -0.0148705,\n",
    "     0.705992,  -0.708025,    0.0165948),\n",
    "    [0.0977284,  0.148363,    0.0628495])\n",
    "\n",
    "oTw = gtsam.Pose3(gtsam.Rot3(\n",
    "     0.0391476, -0.999091,  0.0168659,\n",
    "     0.0968609,  0.0205936, 0.995085,\n",
    "    -0.994528,  -0.0373215, 0.097579),\n",
    "    [0.134747,  -0.848771,  1.14001])\n",
    "\n",
    "rrmse = 0\n",
    "count = 0\n",
    "for i in range(len(wTh_list)):\n",
    "    oTe = oTw.compose(wTh_list[i]).compose(hTe)\n",
    "    eTo = oTe.inverse()\n",
    "    reprojected = cv2.projectPoints(\n",
    "        object_points,\n",
    "        gtsam.Rot3.Logmap(eTo.rotation()),\n",
    "        eTo.translation(),\n",
    "        K,\n",
    "        dist)[0].reshape((-1, 2))\n",
    "    rrmse += np.sum(np.linalg.norm(reprojected - image_points[i], axis=1) ** 2)\n",
    "    count += reprojected.shape[0]\n",
    "rrmse = np.sqrt(rrmse / count)\n",
    "print(rrmse)\n",
    "print(count)"
   ]
  },
  {
   "cell_type": "markdown",
   "metadata": {},
   "source": [
    "# C++ SfM"
   ]
  },
  {
   "cell_type": "markdown",
   "metadata": {},
   "source": [
    "```\n",
    "Scale factor: 0.0455747\n",
    "(gtsam::Pose3)\n",
    "hTe R: [\n",
    "\t-0.0179847, 0.0032568, 0.999833;\n",
    "\t-0.708825, -0.705306, -0.0104527;\n",
    "\t0.705155, -0.708895, 0.0149932\n",
    "]\n",
    "t:  0.112913  0.155531 0.0670113\n",
    "(gtsam::Pose3)\n",
    "wTo R: [\n",
    "\t-0.222505, 0.294806, 0.929291;\n",
    "\t-0.974498, -0.095683, -0.202975;\n",
    "\t0.0290792, -0.950755, 0.308578\n",
    "]\n",
    "t:  0.785489 0.0910341  0.861706\n",
    "RRMSE: 12.4806\n",
    "```"
   ]
  },
  {
   "cell_type": "markdown",
   "metadata": {},
   "source": [
    "# Sketches, not used"
   ]
  },
  {
   "cell_type": "code",
   "execution_count": 9,
   "metadata": {},
   "outputs": [],
   "source": [
    "cameras = []\n",
    "with open('cameras.txt') as f:\n",
    "    for line in f:\n",
    "        line = line.strip()\n",
    "        if line[0] == '#':\n",
    "            continue\n",
    "        q = line.split(' ')\n",
    "        cameras.append([int(q[0]), q[1], float(q[2]), float(q[3]), float(q[4]), float(q[5]), float(q[6]), float(q[7])])\n",
    "f = cameras[0][4]\n",
    "u0 = cameras[0][5]\n",
    "v0 = cameras[0][6]\n",
    "k1 = cameras[0][7]\n",
    "\n",
    "K = np.array([[f, 0, u0], [0, f, v0], [0, 0, 1]])\n",
    "dist = np.array([k1, 0, 0, 0, 0])"
   ]
  },
  {
   "cell_type": "code",
   "execution_count": 10,
   "metadata": {},
   "outputs": [],
   "source": [
    "points3d = {}\n",
    "with open('points3D.txt') as f:\n",
    "    for line in f:\n",
    "        line = line.strip()\n",
    "        if line[0] == '#':\n",
    "            continue\n",
    "        q = line.split(' ')\n",
    "        points3d[int(q[0])] = [float(q[1]), float(q[2]), float(q[3])]\n",
    "object_points = np.array(list(points3d.values()))\n",
    "object_points_idx = {k: idx for idx, k in enumerate(points3d.keys())}"
   ]
  },
  {
   "cell_type": "code",
   "execution_count": 11,
   "metadata": {},
   "outputs": [],
   "source": [
    "views = {}\n",
    "with open('images.txt') as f:\n",
    "    for line in f:\n",
    "        line = line.strip()\n",
    "        if line[0] == '#':\n",
    "            continue\n",
    "        q = line.split(' ')\n",
    "        name = q[9]\n",
    "        views[name] = []\n",
    "        line = next(f)\n",
    "        q = line.split(' ')\n",
    "        while len(q) > 0:\n",
    "            u = float(q.pop(0))\n",
    "            v = float(q.pop(0))\n",
    "            point3d_id = int(q.pop(0))\n",
    "            if point3d_id < 0:\n",
    "                continue\n",
    "            views[name].append([point3d_id, u, v])\n",
    "\n",
    "# views[view_idx][point_idx]: point3d_id, u, v\n",
    "views = [v[1] for v in sorted(views.items(), key = lambda x: x[0])]\n",
    "# views[0]"
   ]
  },
  {
   "cell_type": "code",
   "execution_count": 12,
   "metadata": {},
   "outputs": [
    {
     "name": "stdout",
     "output_type": "stream",
     "text": [
      "[433.888 786.332] [952.81772757 829.73815515]\n",
      "[ 666.096 1133.43 ] [ 738.68109785 1081.79700723]\n",
      "[1255.96   511.954] [660.4491777  411.69960955]\n",
      "[408.115 842.792] [1004.88137979  439.95179044]\n",
      "[ 472.594 1080.48 ] [643.38970492 671.59673846]\n",
      "[1300.76   720.808] [579.97181637 206.65542394]\n",
      "[1032.21 1011.65] [1646.85863565  226.7782703 ]\n",
      "[497.75  666.309] [ 659.59520257 -294.775382  ]\n",
      "[1024.84   453.392] [ 118.32092107 -232.53744828]\n",
      "[577.164 545.187] [1061.19355019  556.2689937 ]\n",
      "[578.287 571.641] [764.1771967  482.86435587]\n",
      "[1201.87   546.358] [914.67859026 375.07793387]\n",
      "[748.229 475.069] [1265.63567708  208.95096392]\n",
      "[559.973 523.032] [747.82040284 148.2212435 ]\n",
      "[ 916.331 1111.43 ] [647.48725264 751.4952517 ]\n",
      "[761.9   491.664] [1376.18040725 -118.16674498]\n",
      "[1660.78  618.7 ] [1893.68114116 -168.80275586]\n",
      "[399.899 627.117] [ -4.7186147  202.48703433]\n"
     ]
    }
   ],
   "source": [
    "## SfM\n",
    "hTe = gtsam.Pose3(gtsam.Rot3(\n",
    "-0.0179847, 0.0032568, 0.999833,\n",
    "-0.708825, -0.705306, -0.0104527,\n",
    "0.705155, -0.708895, 0.0149932),\n",
    "[0.112913,  0.155531, 0.0670113])\n",
    "\n",
    "wTo = gtsam.Pose3(gtsam.Rot3(\n",
    "-0.222505, 0.294806, 0.929291,\n",
    "0.974498, -0.095683, -0.202975,\n",
    "0.0290792, -0.950755, 0.308578),\n",
    "[0.785489, 0.0910341,  0.861706])\n",
    "\n",
    "oTw = wTo.inverse()\n",
    "\n",
    "scale_factor = 0.0455747\n",
    "\n",
    "rrmse = 0\n",
    "count = 0\n",
    "for i in range(len(wTh_list)):\n",
    "    oTe = oTw.compose(wTh_list[i]).compose(hTe)\n",
    "    eTo = oTe.inverse()\n",
    "    reprojected = cv2.projectPoints(\n",
    "        object_points * scale_factor,\n",
    "        gtsam.Rot3.Logmap(eTo.rotation()),\n",
    "        eTo.translation(),\n",
    "        K,\n",
    "        dist)[0].reshape((-1, 2))\n",
    "#     print(reprojected)\n",
    "    view = views[i]\n",
    "    for v in view:\n",
    "        idx = v[0]\n",
    "        p = np.array(v[1:])\n",
    "        reproj = reprojected[object_points_idx[idx]]\n",
    "        print(p, reproj)\n",
    "        break\n",
    "    \n",
    "#     rrmse += np.sum(np.linalg.norm(reprojected - image_points[0], axis=1) ** 2)\n",
    "#     count += reprojected.shape[0]\n",
    "# rrmse = np.sqrt(rrmse / count)\n",
    "# print(rrmse)"
   ]
  }
 ],
 "metadata": {
  "kernelspec": {
   "display_name": "Python 3",
   "language": "python",
   "name": "python3"
  },
  "language_info": {
   "codemirror_mode": {
    "name": "ipython",
    "version": 3
   },
   "file_extension": ".py",
   "mimetype": "text/x-python",
   "name": "python",
   "nbconvert_exporter": "python",
   "pygments_lexer": "ipython3",
   "version": "3.7.4"
  }
 },
 "nbformat": 4,
 "nbformat_minor": 2
}
